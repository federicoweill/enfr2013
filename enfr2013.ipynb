{
 "cells": [
  {
   "cell_type": "code",
   "execution_count": 15,
   "metadata": {},
   "outputs": [],
   "source": [
    "import pandas as pd\n",
    "import numpy as np\n",
    "import matplotlib.pyplot as plt\n",
    "import scipy.stats as stats"
   ]
  },
  {
   "cell_type": "code",
   "execution_count": 16,
   "metadata": {},
   "outputs": [
    {
     "name": "stderr",
     "output_type": "stream",
     "text": [
      "C:\\anaconda\\lib\\site-packages\\IPython\\core\\interactiveshell.py:2785: DtypeWarning: Columns (154) have mixed types. Specify dtype option on import or set low_memory=False.\n",
      "  interactivity=interactivity, compiler=compiler, result=result)\n"
     ]
    }
   ],
   "source": [
    "data = pd.read_csv(\"data.txt\", sep = \"|\")"
   ]
  },
  {
   "cell_type": "code",
   "execution_count": 17,
   "metadata": {},
   "outputs": [
    {
     "data": {
      "text/plain": [
       "(array([7.301e+03, 7.422e+03, 4.878e+03, 3.221e+03, 2.087e+03, 1.424e+03,\n",
       "        1.100e+03, 6.290e+02, 4.850e+02, 4.270e+02, 3.020e+02, 2.520e+02,\n",
       "        1.980e+02, 1.710e+02, 1.450e+02, 1.360e+02, 1.580e+02, 1.270e+02,\n",
       "        1.150e+02, 1.180e+02, 1.080e+02, 1.160e+02, 1.020e+02, 8.000e+01,\n",
       "        1.050e+02, 7.600e+01, 6.600e+01, 6.200e+01, 4.900e+01, 6.300e+01,\n",
       "        5.500e+01, 5.100e+01, 4.900e+01, 5.200e+01, 3.800e+01, 3.200e+01,\n",
       "        3.900e+01, 2.800e+01, 4.700e+01, 3.300e+01, 2.700e+01, 2.000e+01,\n",
       "        1.700e+01, 2.300e+01, 2.700e+01, 2.300e+01, 2.400e+01, 2.600e+01,\n",
       "        2.200e+01, 1.600e+01, 1.400e+01, 9.000e+00, 7.000e+00, 6.000e+00,\n",
       "        8.000e+00, 6.000e+00, 1.600e+01, 5.000e+00, 1.300e+01, 2.000e+00,\n",
       "        5.000e+00, 4.000e+00, 1.400e+01, 3.000e+00, 3.000e+00, 2.500e+01,\n",
       "        1.000e+00, 0.000e+00, 7.000e+00, 2.000e+00, 2.000e+00, 1.000e+00,\n",
       "        6.000e+00, 1.300e+01, 0.000e+00, 1.000e+00, 0.000e+00, 0.000e+00,\n",
       "        4.000e+00, 1.000e+00, 0.000e+00, 4.000e+00, 0.000e+00, 0.000e+00,\n",
       "        0.000e+00, 0.000e+00, 0.000e+00, 0.000e+00, 5.000e+00, 0.000e+00,\n",
       "        0.000e+00, 0.000e+00, 0.000e+00, 3.000e+00, 0.000e+00, 0.000e+00,\n",
       "        0.000e+00, 0.000e+00, 0.000e+00, 3.000e+00]),\n",
       " array([6.000000e+00, 1.692700e+02, 3.325400e+02, 4.958100e+02,\n",
       "        6.590800e+02, 8.223500e+02, 9.856200e+02, 1.148890e+03,\n",
       "        1.312160e+03, 1.475430e+03, 1.638700e+03, 1.801970e+03,\n",
       "        1.965240e+03, 2.128510e+03, 2.291780e+03, 2.455050e+03,\n",
       "        2.618320e+03, 2.781590e+03, 2.944860e+03, 3.108130e+03,\n",
       "        3.271400e+03, 3.434670e+03, 3.597940e+03, 3.761210e+03,\n",
       "        3.924480e+03, 4.087750e+03, 4.251020e+03, 4.414290e+03,\n",
       "        4.577560e+03, 4.740830e+03, 4.904100e+03, 5.067370e+03,\n",
       "        5.230640e+03, 5.393910e+03, 5.557180e+03, 5.720450e+03,\n",
       "        5.883720e+03, 6.046990e+03, 6.210260e+03, 6.373530e+03,\n",
       "        6.536800e+03, 6.700070e+03, 6.863340e+03, 7.026610e+03,\n",
       "        7.189880e+03, 7.353150e+03, 7.516420e+03, 7.679690e+03,\n",
       "        7.842960e+03, 8.006230e+03, 8.169500e+03, 8.332770e+03,\n",
       "        8.496040e+03, 8.659310e+03, 8.822580e+03, 8.985850e+03,\n",
       "        9.149120e+03, 9.312390e+03, 9.475660e+03, 9.638930e+03,\n",
       "        9.802200e+03, 9.965470e+03, 1.012874e+04, 1.029201e+04,\n",
       "        1.045528e+04, 1.061855e+04, 1.078182e+04, 1.094509e+04,\n",
       "        1.110836e+04, 1.127163e+04, 1.143490e+04, 1.159817e+04,\n",
       "        1.176144e+04, 1.192471e+04, 1.208798e+04, 1.225125e+04,\n",
       "        1.241452e+04, 1.257779e+04, 1.274106e+04, 1.290433e+04,\n",
       "        1.306760e+04, 1.323087e+04, 1.339414e+04, 1.355741e+04,\n",
       "        1.372068e+04, 1.388395e+04, 1.404722e+04, 1.421049e+04,\n",
       "        1.437376e+04, 1.453703e+04, 1.470030e+04, 1.486357e+04,\n",
       "        1.502684e+04, 1.519011e+04, 1.535338e+04, 1.551665e+04,\n",
       "        1.567992e+04, 1.584319e+04, 1.600646e+04, 1.616973e+04,\n",
       "        1.633300e+04]),\n",
       " <a list of 100 Patch objects>)"
      ]
     },
     "execution_count": 17,
     "metadata": {},
     "output_type": "execute_result"
    },
    {
     "data": {
      "image/png": "[encoded data removed]",
      "text/plain": [
       "<Figure size 432x288 with 1 Axes>"
      ]
     },
     "metadata": {},
     "output_type": "display_data"
    }
   ],
   "source": [
    "plt.hist(data[\"PONDERACION\"], bins  =100)"
   ]
  },
  {
   "cell_type": "code",
   "execution_count": 18,
   "metadata": {},
   "outputs": [
    {
     "data": {
      "text/plain": [
       "count    32365.000000\n",
       "mean       796.464916\n",
       "std       1341.705839\n",
       "min          6.000000\n",
       "25%        185.000000\n",
       "50%        375.000000\n",
       "75%        763.000000\n",
       "max      16333.000000\n",
       "Name: PONDERACION, dtype: float64"
      ]
     },
     "execution_count": 18,
     "metadata": {},
     "output_type": "execute_result"
    }
   ],
   "source": [
    "data[\"PONDERACION\"].describe()"
   ]
  },
  {
   "cell_type": "code",
   "execution_count": 20,
   "metadata": {},
   "outputs": [
    {
     "data": {
      "text/plain": [
       "Index(['ID', 'PONDERACION', 'REGION', 'COD_PROVINCIA',\n",
       "       'COD_TAMANIO_AGLOMERADO', 'AGLOMERADO', 'BHCV01', 'BHCV02', 'BHCV03',\n",
       "       'BHCV04',\n",
       "       ...\n",
       "       'BIVA01_04', 'BIVA01_05', 'BIVA02', 'BIVA03', 'BICC01_01', 'BICC01_02',\n",
       "       'BICC01_03', 'BICC02', 'BICC03', 'C_COLON'],\n",
       "      dtype='object', length=204)"
      ]
     },
     "execution_count": 20,
     "metadata": {},
     "output_type": "execute_result"
    }
   ],
   "source": [
    "data.columns"
   ]
  },
  {
   "cell_type": "code",
   "execution_count": 21,
   "metadata": {},
   "outputs": [
    {
     "data": {
      "text/plain": [
       "RelfreqResult(frequency=array([6.52405778e+02, 0.00000000e+00, 1.04628457e+01, 1.29141542e+02,\n",
       "       0.00000000e+00, 2.75331376e+00, 1.17846439e+00, 0.00000000e+00,\n",
       "       1.29862506e-01, 3.93109841e-01]), lowerlimit=0.6666666666666667, binsize=0.6666666666666667, extrapoints=0)"
      ]
     },
     "execution_count": 21,
     "metadata": {},
     "output_type": "execute_result"
    }
   ],
   "source": [
    "stats.relfreq(data[\"BHCV01\"], numbins=10, defaultreallimits=None, weights=data[\"PONDERACION\"])"
   ]
  },
  {
   "cell_type": "code",
   "execution_count": 22,
   "metadata": {},
   "outputs": [],
   "source": [
    "tipo_de_vivienda = data[\"BHCV01\"]"
   ]
  },
  {
   "cell_type": "code",
   "execution_count": 23,
   "metadata": {},
   "outputs": [],
   "source": [
    "frecuencia = tipo_de_vivienda.value_counts()"
   ]
  },
  {
   "cell_type": "code",
   "execution_count": 24,
   "metadata": {},
   "outputs": [
    {
     "data": {
      "text/plain": [
       "1    27125\n",
       "3     4501\n",
       "2      545\n",
       "4      140\n",
       "5       30\n",
       "7       15\n",
       "6        9\n",
       "Name: BHCV01, dtype: int64"
      ]
     },
     "execution_count": 24,
     "metadata": {},
     "output_type": "execute_result"
    }
   ],
   "source": [
    "frecuencia"
   ]
  },
  {
   "cell_type": "code",
   "execution_count": 31,
   "metadata": {},
   "outputs": [
    {
     "data": {
      "text/plain": [
       "([<matplotlib.axis.XTick at 0x13c71d67550>,\n",
       "  <matplotlib.axis.XTick at 0x13c71d19f98>,\n",
       "  <matplotlib.axis.XTick at 0x13c71d19f60>,\n",
       "  <matplotlib.axis.XTick at 0x13c71a335c0>,\n",
       "  <matplotlib.axis.XTick at 0x13c719fc358>,\n",
       "  <matplotlib.axis.XTick at 0x13c719eae10>,\n",
       "  <matplotlib.axis.XTick at 0x13c000fc2e8>],\n",
       " <a list of 7 Text xticklabel objects>)"
      ]
     },
     "execution_count": 31,
     "metadata": {},
     "output_type": "execute_result"
    },
    {
     "data": {
      "image/png": "[encoded data removed]",
      "text/plain": [
       "<Figure size 432x288 with 1 Axes>"
      ]
     },
     "metadata": {},
     "output_type": "display_data"
    }
   ],
   "source": [
    "plt.bar([1,3,2,4,5,7,6],frecuencia)\n",
    "plt.title (\"tipo de vivienda\")\n",
    "plt.ylabel (\"cantidad\")\n",
    "plt.xticks ([1,2,3,4,5,6,7],[\"casa\",\"casilla\",\"dpto\", \"inquilinato\", \"hotel\", \"otros\", \"local\"])"
   ]
  },
  {
   "cell_type": "code",
   "execution_count": 66,
   "metadata": {},
   "outputs": [],
   "source": [
    "cant_habitaciones = data[\"BHCV02\"].replace(99, np.nan)"
   ]
  },
  {
   "cell_type": "code",
   "execution_count": 67,
   "metadata": {},
   "outputs": [
    {
     "data": {
      "text/plain": [
       "3.0     11512\n",
       "2.0      7299\n",
       "4.0      7154\n",
       "1.0      2710\n",
       "5.0      2554\n",
       "6.0       761\n",
       "7.0       243\n",
       "8.0        99\n",
       "9.0        19\n",
       "10.0       11\n",
       "12.0        1\n",
       "Name: BHCV02, dtype: int64"
      ]
     },
     "execution_count": 67,
     "metadata": {},
     "output_type": "execute_result"
    }
   ],
   "source": [
    "cant_habitaciones.value_counts()"
   ]
  },
  {
   "cell_type": "code",
   "execution_count": 68,
   "metadata": {},
   "outputs": [],
   "source": [
    "frecuencia_BHCV02 = cant_habitaciones.value_counts()"
   ]
  },
  {
   "cell_type": "code",
   "execution_count": 78,
   "metadata": {},
   "outputs": [
    {
     "data": {
      "text/plain": [
       "Text(0,0.5,'cantidad de viviendas')"
      ]
     },
     "execution_count": 78,
     "metadata": {},
     "output_type": "execute_result"
    },
    {
     "data": {
      "image/png": "[encoded data removed]",
      "text/plain": [
       "<Figure size 432x288 with 1 Axes>"
      ]
     },
     "metadata": {},
     "output_type": "display_data"
    }
   ],
   "source": [
    "fig, ax = plt.subplots()\n",
    "\n",
    "cant_habitaciones.value_counts().plot(ax=ax, kind='bar')\n",
    "ax.set_title('cantidad de habitaciones por vivienda')\n",
    "ax.set_xlabel (\"cantidad de habitaciones\")\n",
    "ax.set_ylabel  (\"cantidad de viviendas\")"
   ]
  },
  {
   "cell_type": "code",
   "execution_count": 61,
   "metadata": {},
   "outputs": [
    {
     "data": {
      "text/plain": [
       "array([11512,  7299,  7154,  2710,  2554,   761,   243,    99,    19,\n",
       "          11,     1], dtype=int64)"
      ]
     },
     "execution_count": 61,
     "metadata": {},
     "output_type": "execute_result"
    }
   ],
   "source": [
    "frecuencia_BHCV02_array"
   ]
  },
  {
   "cell_type": "code",
   "execution_count": 59,
   "metadata": {},
   "outputs": [
    {
     "ename": "NameError",
     "evalue": "name 'index' is not defined",
     "output_type": "error",
     "traceback": [
      "\u001b[1;31m---------------------------------------------------------------------------\u001b[0m",
      "\u001b[1;31mNameError\u001b[0m                                 Traceback (most recent call last)",
      "\u001b[1;32m<ipython-input-59-f53d4f98552e>\u001b[0m in \u001b[0;36m<module>\u001b[1;34m()\u001b[0m\n\u001b[1;32m----> 1\u001b[1;33m \u001b[0mfrecuencia_BHCV02_df\u001b[0m\u001b[1;33m[\u001b[0m\u001b[0mindex\u001b[0m\u001b[1;33m]\u001b[0m\u001b[1;33m\u001b[0m\u001b[0m\n\u001b[0m",
      "\u001b[1;31mNameError\u001b[0m: name 'index' is not defined"
     ]
    }
   ],
   "source": [
    "frecuencia_BHCV02_df[index]"
   ]
  },
  {
   "cell_type": "code",
   "execution_count": 31,
   "metadata": {},
   "outputs": [
    {
     "data": {
      "text/plain": [
       "([<matplotlib.axis.XTick at 0x13c71d67550>,\n",
       "  <matplotlib.axis.XTick at 0x13c71d19f98>,\n",
       "  <matplotlib.axis.XTick at 0x13c71d19f60>,\n",
       "  <matplotlib.axis.XTick at 0x13c71a335c0>,\n",
       "  <matplotlib.axis.XTick at 0x13c719fc358>,\n",
       "  <matplotlib.axis.XTick at 0x13c719eae10>,\n",
       "  <matplotlib.axis.XTick at 0x13c000fc2e8>],\n",
       " <a list of 7 Text xticklabel objects>)"
      ]
     },
     "execution_count": 31,
     "metadata": {},
     "output_type": "execute_result"
    },
    {
     "data": {
      "image/png": "[encoded data removed]",
      "text/plain": [
       "<Figure size 432x288 with 1 Axes>"
      ]
     },
     "metadata": {},
     "output_type": "display_data"
    }
   ],
   "source": [
    "plt.bar([1,3,2,4,5,7,6],frecuencia)\n",
    "plt.title (\"tipo de vivienda\")\n",
    "plt.ylabel (\"cantidad\")\n",
    "plt.xticks ([1,2,3,4,5,6,7],[\"casa\",\"casilla\",\"dpto\", \"inquilinato\", \"hotel\", \"otros\", \"local\"])"
   ]
  }
 ],
 "metadata": {
  "kernelspec": {
   "display_name": "Python 3",
   "language": "python",
   "name": "python3"
  },
  "language_info": {
   "codemirror_mode": {
    "name": "ipython",
    "version": 3
   },
   "file_extension": ".py",
   "mimetype": "text/x-python",
   "name": "python",
   "nbconvert_exporter": "python",
   "pygments_lexer": "ipython3",
   "version": "3.6.5"
  }
 },
 "nbformat": 4,
 "nbformat_minor": 2
}
